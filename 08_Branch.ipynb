{
 "cells": [
  {
   "cell_type": "markdown",
   "metadata": {},
   "source": [
    "# Using Branches\n",
    "\n",
    "## Git branch\n",
    "\n",
    "The `git branch` command lets you create, list, rename, and delete branches. **It doesn’t let you switch between branches or put a forked history back together again**. For this reason, `git branch` is tightly integrated with the `git checkout` and `git merge` commands.\n",
    "\n",
    "To **list** available branches, the following two are equivalent\n",
    "```bash\n",
    "git branch\n",
    "git branch --list\n",
    "```\n",
    "\n",
    "To **list all remote branches**,\n",
    "```bash\n",
    "git branch -a\n",
    "```\n",
    "\n",
    "To **create** a new branch,\n",
    "```bash\n",
    "git branch <branch_name>\n",
    "```\n",
    "\n",
    "To **delete** a branch in the **safe way** (Git will prevent this operation if there are unmerged changes)\n",
    "```bash\n",
    "git branch -d <branch_name>\n",
    "```\n",
    "\n",
    "To **force an unsafe delete**,\n",
    "```bash\n",
    "git branch -D <branch_name>\n",
    "```\n",
    "\n",
    "To also **delete the remote copy** of the branch, the following two are equivalent.\n",
    "```bash\n",
    "git push origin --delete <branch_name>\n",
    "git push origin :<branch_name>\n",
    "```\n",
    "\n",
    "To **rename the current branch**,\n",
    "```bash\n",
    "git branch -m <new_branch_name>\n",
    "```\n"
   ]
  },
  {
   "cell_type": "markdown",
   "metadata": {},
   "source": [
    "## Git checkout\n",
    "\n",
    "In Git terms, a \"checkout\" is the act of **switching between different versions** of a target entity. The `git checkout` command operates upon three distinct entities: **files**, **commits**, and **branches**.\n",
    "\n",
    "Checking out branches is similar to checking out old commits and files in that the working directory is updated to match the selected branch/revision; however, new changes are saved in the project history — that is, **it’s not a read-only operation**.\n",
    "\n",
    "To switch to an existing branch,\n",
    "```bash\n",
    "git checkout <branch_name>\n",
    "```\n",
    "\n",
    "To create a new branch and switch to it,\n",
    "```bash\n",
    "git checkout -b <branch_name>\n",
    "```\n",
    "Above is equivalent to\n",
    "```bash\n",
    "git branch <branch_name>\n",
    "git checkout <branch_name>\n",
    "```"
   ]
  },
  {
   "cell_type": "markdown",
   "metadata": {},
   "source": [
    "## Git merge\n",
    "\n",
    "`Git merge` will combine multiple sequences of commits into one unified history. In the most frequent use cases, `git merge` is used to combine two branches. \n",
    "\n",
    "Before performing a merge there are a couple of preparation steps to take to ensure the merge goes smoothly.\n",
    "\n",
    "+ Execute `git status` to ensure that `HEAD` is pointing to the correct merge-receiving branch. If needed, execute `git checkout <receiving>` to switch to the receiving branch. \n",
    "+ Make sure the receiving branch and the merging branch are up-to-date with the latest remote changes. Execute `git fetch` to pull the latest remote commits. Once the fetch is completed ensure the receiving branch has the latest updates by executing `git pull`.\n",
    "+ Initiate the merge by executing `git merge <branch name>` where `<branch name>` is the name of the branch that will be merged into the receiving branch.\n",
    "\n",
    "A **fast-forward merge** can occur when there is a linear path from the current branch tip to the target branch. Instead of “actually” merging the branches, all Git has to do to integrate the histories is move (i.e., “fast forward”) the current branch tip up to the target branch tip. This effectively combines the histories, since all of the commits reachable from the target branch are now available through the current one. \n",
    "\n",
    "However, a fast-forward merge is not possible if the branches have diverged. When there is not a linear path to the target branch, Git has no choice but to combine them via a **3-way merge**. 3-way merges use a dedicated commit to tie together the two histories. The nomenclature comes from the fact that Git uses three commits to generate the merge commit: the two branch tips and their common ancestor.\n",
    "\n",
    "If the two branches you're trying to merge both changed the same part of the same file, Git won't be able to figure out which version to use. When such a situation occurs, it stops right before the merge commit so that **you can resolve the conflicts manually**.\n",
    "\n",
    "When Git encounters a **conflict** during a merge, It will edit the content of the affected files with visual indicators that mark both sides of the conflicted content. These **visual markers** are: `<<<<<<<`, `=======`, and `>>>>>>>`. Its helpful to search a project for these indicators during a merge to find where conflicts need to be resolved."
   ]
  }
 ],
 "metadata": {
  "kernelspec": {
   "display_name": "Python 3",
   "language": "python",
   "name": "python3"
  },
  "language_info": {
   "codemirror_mode": {
    "name": "ipython",
    "version": 3
   },
   "file_extension": ".py",
   "mimetype": "text/x-python",
   "name": "python",
   "nbconvert_exporter": "python",
   "pygments_lexer": "ipython3",
   "version": "3.6.4"
  }
 },
 "nbformat": 4,
 "nbformat_minor": 2
}
