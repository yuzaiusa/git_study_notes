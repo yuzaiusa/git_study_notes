{
 "cells": [
  {
   "cell_type": "markdown",
   "metadata": {},
   "source": [
    "# Save Changes\n",
    "\n",
    "git add\n",
    "this is not only add a file to the commit list, it is adding a snapshot to the staging area. When further changes is done to that file, new changes will show up as unstaged changes.\n",
    "\n",
    "git commit --amend\n",
    "this is to change the last commit rather than adding a new commit.\n",
    "\n",
    "git diff\n",
    "By default, the diff is done against HEAD. There is also a FETCH_HEAD that is where the last pull is based on.\n",
    "\n",
    "git diff --staged\n",
    "or\n",
    "git diff --cached\n",
    "will comparing against the staged snapshot.\n",
    "\n",
    "git diff <commit id 1> <commit id 2>\n",
    "\n",
    "git diff branch1..branch2\n",
    "is the same to git diff branch1 branch2\n",
    "\n",
    "however, git diff branch1...branch2\n",
    "is to compare branch2 to a common ancestor of branch1 and branch2\n",
    "\n",
    "git diff branch1 branch2 file\n",
    "shows the diff of a particular file\n",
    "\n",
    "git stash\n",
    "git stash pop\n",
    "will reapply the change and remove the stash\n",
    "git stash apply\n",
    "will reapply the change but still keep the stash\n",
    "There is one caveat with git stash you need to be aware of: by default Git won't stash changes made to untracked or ignored files.\n",
    "By default, unstaged changes to tracked files will also be stashed.\n",
    "\n",
    "git stash -u\n",
    "will stash untracked files as well\n",
    "git stash -a\n",
    "will stash all files, including both untracked and .gitignore files"
   ]
  }
 ],
 "metadata": {
  "kernelspec": {
   "display_name": "Python 3",
   "language": "python",
   "name": "python3"
  },
  "language_info": {
   "codemirror_mode": {
    "name": "ipython",
    "version": 3
   },
   "file_extension": ".py",
   "mimetype": "text/x-python",
   "name": "python",
   "nbconvert_exporter": "python",
   "pygments_lexer": "ipython3",
   "version": "3.6.4"
  }
 },
 "nbformat": 4,
 "nbformat_minor": 2
}
