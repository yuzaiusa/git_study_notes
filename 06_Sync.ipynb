{
 "cells": [
  {
   "cell_type": "markdown",
   "metadata": {},
   "source": [
    "# Syncing\n",
    "\n",
    "## Git remote\n",
    "The git remote command lets you create, view, and delete connections to other repositories. Remote connections are more like **bookmarks** rather than direct links into other repositories. Instead of providing real-time access to another repository, they serve as convenient names that can be used to reference a not-so-convenient URL.\n",
    "\n",
    "To view the current remote configurations:\n",
    "```bash\n",
    "> git remote\n",
    "origin\n",
    "> git remote -v\n",
    "origin\thttps://github.com/yuzaiusa/git_study_notes.git (fetch)\n",
    "origin\thttps://github.com/yuzaiusa/git_study_notes.git (push)\n",
    "```\n",
    "\n",
    "To manage a remote bookmark,\n",
    "```bash\n",
    "git remote add <name> <url>\n",
    "git remote rm <name>\n",
    "git remote rename <old_name> <new_name>\n",
    "```\n",
    "\n",
    "When you clone a repository with `git clone`, it automatically creates a remote connection called `origin` pointing back to the cloned repository. This is useful for developers creating a **local copy** of a central repository, since it provides an easy way to pull upstream changes or publish local commits. This behavior is also why most Git-based projects call their central repository origin."
   ]
  }
 ],
 "metadata": {
  "kernelspec": {
   "display_name": "Python 3",
   "language": "python",
   "name": "python3"
  },
  "language_info": {
   "codemirror_mode": {
    "name": "ipython",
    "version": 3
   },
   "file_extension": ".py",
   "mimetype": "text/x-python",
   "name": "python",
   "nbconvert_exporter": "python",
   "pygments_lexer": "ipython3",
   "version": "3.6.4"
  }
 },
 "nbformat": 4,
 "nbformat_minor": 2
}
