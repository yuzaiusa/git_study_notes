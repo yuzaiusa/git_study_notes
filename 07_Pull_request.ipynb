{
 "cells": [
  {
   "cell_type": "markdown",
   "metadata": {},
   "source": [
    "# Making a Pull Request\n",
    "\n",
    "In their simplest form, pull requests are a mechanism for a developer to notify team members that they have completed a feature. Once their feature branch is ready, the developer files a pull request via their Bitbucket account. This lets everybody involved know that they need to review the code and merge it into the `master` branch.\n",
    "\n",
    "When you file a pull request, all you’re doing is requesting that another developer (e.g., the project maintainer) pulls a branch from your repository into their repository. This means that you need to provide 4 pieces of information to file a pull request: the source repository, the source branch, the destination repository, and the destination branch.\n",
    "\n",
    "Pull requests can be used in conjunction with the **Feature Branch Workflow**, the **Gitflow Workflow**, or the **Forking Workflow**. But a pull request requires either two distinct branches or two distinct repositories, so they will not work with the **Centralized Workflow**. Using pull requests with each of these workflows is slightly different, but the general process is as follows:\n",
    "\n",
    "1. A developer creates the feature in a dedicated branch in their local repo.\n",
    "\n",
    "1. The developer pushes the branch to a public Bitbucket repository.\n",
    "\n",
    "1. The developer files a pull request via Bitbucket.\n",
    "\n",
    "1. The rest of the team reviews the code, discusses it, and alters it.\n",
    "\n",
    "1. The project maintainer merges the feature into the official repository and closes the pull request.\n",
    "\n"
   ]
  }
 ],
 "metadata": {
  "kernelspec": {
   "display_name": "Python 3",
   "language": "python",
   "name": "python3"
  },
  "language_info": {
   "codemirror_mode": {
    "name": "ipython",
    "version": 3
   },
   "file_extension": ".py",
   "mimetype": "text/x-python",
   "name": "python",
   "nbconvert_exporter": "python",
   "pygments_lexer": "ipython3",
   "version": "3.6.4"
  }
 },
 "nbformat": 4,
 "nbformat_minor": 2
}
