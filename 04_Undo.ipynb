{
 "cells": [
  {
   "cell_type": "markdown",
   "metadata": {},
   "source": [
    "# Undoing commits and changes\n",
    "\n",
    "\n",
    "## Reviewing old commits\n",
    "\n",
    "Beforing turning back the clock, we have to find out the point in the timeline that things went wrong. Review the commit history by\n",
    "```bash\n",
    "git log --oneline\n",
    "```\n",
    "\n",
    "If we only want to view a particular branch, do\n",
    "```bash\n",
    "git log <branch_name>\n",
    "```\n",
    "\n",
    "If we want to review changes across all branches,\n",
    "```bash\n",
    "git log --branches=*\n",
    "```\n",
    "\n",
    "## Checking out an older revision\n",
    "\n",
    "To revert an older commit, run\n",
    "```bash\n",
    "git checkout <commit_id>\n",
    "```\n",
    "During the normal course of development, the **HEAD** usually points to master or some other local branch, but when you check out a previous commit, HEAD no longer points to a branch — it points directly to a commit. This is called a “**detached HEAD**” state.\n",
    "\n",
    "The point is, your development should always take place on a branch—never on a detached HEAD. This makes sure you always have a reference to your new commits. However, if you’re just looking at an old commit, it doesn’t really matter if you’re in a detached HEAD state or not.\n",
    "\n",
    "On the other hand, **checking out an old file** \n",
    "```bash\n",
    "git checkout <commit_id> <filename>\n",
    "git checkout <branch> <filename>\n",
    "```\n",
    "**does not move the HEAD pointer**. It remains on the same branch and same commit, avoiding a 'detached head' state. You can then commit the old version of the file in a new snapshot as you would any other changes. So, in effect, this usage of git checkout on a file, serves as a way to revert back to an old version of an individual file.\n",
    "\n",
    "## Viewing an old revision\n"
   ]
  }
 ],
 "metadata": {
  "kernelspec": {
   "display_name": "Python 3",
   "language": "python",
   "name": "python3"
  },
  "language_info": {
   "codemirror_mode": {
    "name": "ipython",
    "version": 3
   },
   "file_extension": ".py",
   "mimetype": "text/x-python",
   "name": "python",
   "nbconvert_exporter": "python",
   "pygments_lexer": "ipython3",
   "version": "3.6.4"
  }
 },
 "nbformat": 4,
 "nbformat_minor": 2
}
