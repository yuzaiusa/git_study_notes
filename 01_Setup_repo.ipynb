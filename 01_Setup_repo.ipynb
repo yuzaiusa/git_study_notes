{
 "cells": [
  {
   "cell_type": "markdown",
   "metadata": {},
   "source": [
    "# Part 1: Set Up a Repository\n",
    "\n",
    "## Initialize a repository\n",
    "Git is a tool to manage **repositories**. Take a directory, which contains the source codes of a projtect, the first step is to turn it into a repo. This is a little bit like to turning raw text into a Word docuement.\n",
    "\n",
    "In the directory of interests, run\n",
    "``` bash\n",
    "git init\n",
    "```\n",
    "to turn it into repo."
   ]
  },
  {
   "cell_type": "markdown",
   "metadata": {},
   "source": [
    "## Remote repository vs local\n",
    "\n",
    "Git manages repositories. There could a **remote** repo _usually sitting on the cloud_ (GitHub or BitBucket) for colleagues to collaborate (of course, the central repo does not have to be on a cloud server). Both the local repo and the remote repo are full fledged git repos. They could but not necessarily talk to each other. The big difference of a remote repo is that it is initialied by\n",
    "```bash\n",
    "git init --bare\n",
    "```\n",
    "\n",
    "To link a remote site to a local repo,\n",
    "``` bash\n",
    "git remote add origin <remote_address>\n",
    "```\n",
    "\n",
    "When a repo is cloned from a remote site,\n",
    "```bash\n",
    "git clone <remote_site>\n",
    "```\n",
    "the remote is set up automatically to the site you cloned from.\n",
    "\n",
    "The local commit is **HEAD**, while the remote commit in the local directory is **FETCH_HEAD**. To update the FETCH_HEAD,\n",
    "``` bash\n",
    "git fetch\n",
    "```\n",
    "\n",
    "Fetch only update the **FETCH_HEAD** but does not merge to **HEAD**. A\n",
    "```bash\n",
    "git pull\n",
    "```\n",
    "does both a `git fetch` then a `git merge`.\n",
    "\n",
    "If we made local changes, git pull sometimes will be rejected for **unrelated-histories**. To force the pull/merge,\n",
    "``` bash\n",
    "git pull --aloow-unrelated-histories\n",
    "```\n",
    "and then\n",
    "``` bash\n",
    "git push\n",
    "\n",
    "```\n",
    "will update the remote repo as well.\n",
    "\n",
    "To avoid typing user name and password every time,\n",
    "``` bash\n",
    "git config --global credential.helper cache\n",
    "```\n",
    "\n",
    "Note that git is based on **snapshots** rather than **differences**. This is a fundamental difference comparing to svn."
   ]
  }
 ],
 "metadata": {
  "kernelspec": {
   "display_name": "Python 3",
   "language": "python",
   "name": "python3"
  },
  "language_info": {
   "codemirror_mode": {
    "name": "ipython",
    "version": 3
   },
   "file_extension": ".py",
   "mimetype": "text/x-python",
   "name": "python",
   "nbconvert_exporter": "python",
   "pygments_lexer": "ipython3",
   "version": "3.6.4"
  }
 },
 "nbformat": 4,
 "nbformat_minor": 2
}
