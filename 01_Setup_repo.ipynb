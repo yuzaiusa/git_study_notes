{
 "cells": [
  {
   "cell_type": "markdown",
   "metadata": {},
   "source": [
    "# Set Up a Repository\n",
    "\n",
    "git init\n",
    "\n",
    "git remote add origin <remote_address>\n",
    "\n",
    "git fetch\n",
    "goes to FETCH_HEAD\n",
    "\n",
    "if made local changes, git pull will be rejected for unrelated-histories. To force that,\n",
    "git pull --aloow-unrelated-histories\n",
    "\n",
    "and then\n",
    "git push\n",
    "will update the remote repo as well\n",
    "\n",
    "to avoid typing user name and password every time,\n",
    "git config --global credential.helper cache\n",
    "\n",
    "git is based on snapshots rather than differences. This is a fundamental difference comparing to svn.\n",
    "does it mean that every time it cache the snapshot of the whole directories or the snapshot of the changed files?"
   ]
  }
 ],
 "metadata": {
  "kernelspec": {
   "display_name": "Python 3",
   "language": "python",
   "name": "python3"
  },
  "language_info": {
   "codemirror_mode": {
    "name": "ipython",
    "version": 3
   },
   "file_extension": ".py",
   "mimetype": "text/x-python",
   "name": "python",
   "nbconvert_exporter": "python",
   "pygments_lexer": "ipython3",
   "version": "3.6.4"
  }
 },
 "nbformat": 4,
 "nbformat_minor": 2
}
